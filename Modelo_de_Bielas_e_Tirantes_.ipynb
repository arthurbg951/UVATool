{
 "cells": [
  {
   "cell_type": "markdown",
   "id": "b489d3cf",
   "metadata": {},
   "source": [
    "# MBT v.01"
   ]
  },
  {
   "cell_type": "markdown",
   "id": "a1934908",
   "metadata": {},
   "source": [
    "### Recebendo dados do usuário"
   ]
  },
  {
   "cell_type": "code",
   "execution_count": 22,
   "id": "e789e607",
   "metadata": {},
   "outputs": [
    {
     "name": "stdout",
     "output_type": "stream",
     "text": [
      "Qual o comprimento da viga em mm:  5000\n",
      "Qual a altura da viga em mm:  500\n",
      "Qual o recobrimento:  25\n",
      "O L/h da viga é: 10.0\n",
      "o Ângulo entre as barras é: 31.2817065864905°\n",
      "O valor do braço de alavanca (Z) é 421.875 mm\n",
      "O comprimento das bielas comprimidas é: 812.475739359354 mm\n",
      "O comprimento do banzo superior é: 3611.27639694210 mm\n",
      "O comprimento do banzo inferior é: 5000.0 mm\n"
     ]
    }
   ],
   "source": [
    "import sympy as sp\n",
    "sp.init_printing()\n",
    "\n",
    "l_viga = float(input('Qual o comprimento da viga em mm:  '))\n",
    "h_viga = float(input('Qual a altura da viga em mm:  '))\n",
    "rec = float(input('Qual o recobrimento:  '))\n",
    "lh = l_viga / h_viga\n",
    "print(f'O L/h da viga é: {lh}')\n",
    "\n",
    "# Zona morta para vigas parede com L/h < 1.00\n",
    "if lh <= 1.00:\n",
    "    lh = 1.00001\n",
    "\n",
    "# Ângulo de formação da Biela\n",
    "\n",
    "ang_biela = -15.2 * sp.ln(lh) + 66.281  # Mapeamento Ansys\n",
    "print(f'o Ângulo entre as barras é: {ang_biela}°')\n",
    "\n",
    "# Dimensões da treliça\n",
    "\n",
    "ang_biela *= (3.1415926535897932384626433832795/180.)\n",
    "l_bzinf = l_viga\n",
    "z = 0\n",
    "if lh >= 2:\n",
    "    z = 0.90 * (h_viga - (rec + 6.250))\n",
    "if lh < 2:\n",
    "    pdz = -0.1259 * (lh ** 2) + 0.6107 * lh + 0.1939  # Mapeamento Ansys correlacionando com a altura útil\n",
    "    z = pdz * (h_viga - (rec + 6.250))\n",
    "\n",
    "print(f'O valor do braço de alavanca (Z) é {z} mm')\n",
    "l_biela = z / sp.sin(ang_biela)\n",
    "l_bzsup = l_bzinf - 2 * (z / sp.tan(ang_biela))\n",
    "\n",
    "print(f'O comprimento das bielas comprimidas é: {l_biela} mm')\n",
    "print(f'O comprimento do banzo superior é: {l_bzsup} mm')\n",
    "print(f'O comprimento do banzo inferior é: {l_bzinf} mm')"
   ]
  },
  {
   "cell_type": "markdown",
   "id": "c52e4b73",
   "metadata": {},
   "source": [
    "### Passo 1: Montagem das matrizes e vetores"
   ]
  },
  {
   "cell_type": "code",
   "execution_count": 23,
   "id": "c5308ab4",
   "metadata": {},
   "outputs": [],
   "source": [
    "# Criando as constantes em variáveis simbólicas\n",
    "\n",
    "A_12, A_23, A_34, A_41 = sp.symbols(['A_12', 'A_23', 'A_34', 'A_41'])\n",
    "I_12, I_23, I_34, I_41 = sp.symbols(['I_12', 'I_23', 'I_34', 'I_41'])\n",
    "E_12, E_23, E_34, E_41 = sp.symbols(['E_12', 'E_23', 'E_34', 'E_41'])\n",
    "L_12, L_23, L_34, L_41 = sp.symbols(['L_12', 'L_23', 'L_34', 'L_41'])\n",
    "P_11, P_12, P_21, P_22, P_31, P_32, P_41, P_42 = sp.symbols(['P_11', 'P_12', 'P_21', 'P_22', 'P_31', 'P_32', 'P_41', 'P_42'])\n",
    "\n",
    "# Definindo as variáveis dos ângulos\n",
    "\n",
    "alpha = sp.symbols('alpha')\n",
    "c = sp.cos(alpha)\n",
    "s = sp.sin(alpha)"
   ]
  },
  {
   "cell_type": "markdown",
   "id": "baa25cd4",
   "metadata": {},
   "source": [
    "#### a) Matriz de Equiíbrio - L"
   ]
  },
  {
   "cell_type": "code",
   "execution_count": 24,
   "id": "16406ed8",
   "metadata": {},
   "outputs": [],
   "source": [
    "# Matriz de Equilibrio - L\n",
    "\n",
    "Lo_eq = sp.Matrix([[-c,  s/L_12,-s/L_12,  0,      0,      0,   0,      0,      0,    0,      0,      0],\n",
    "                   [-s, -c/L_12, c/L_12,  0,      0,      0,   0,      0,      0,    0,      0,      0],\n",
    "                   [ 0,       1,      0,  0,      0,      0,   0,      0,      0,    0,      0,      0],\n",
    "                   [ c, -s/L_12, s/L_12, -c, s/L_23,-s/L_23,   0,      0,      0,    0,      0,      0],\n",
    "                   [ s,  c/L_12,-c/L_12, -s,-c/L_23, c/L_23,   0,      0,      0,    0,      0,      0],\n",
    "                   [ 0,       0,     -1,  0,      1,      0,   0,      0,      0,    0,      0,      0],\n",
    "                   [ 0,       0,      0,  c,-s/L_23, s/L_23,  -c, s/L_34,-s/L_34,    0,      0,      0],\n",
    "                   [ 0,       0,      0,  s, c/L_23,-c/L_23,  -s,-c/L_34, c/L_34,    0,      0,      0],\n",
    "                   [ 0,       0,      0,  0,      0,     -1,   0,      1,      0,    0,      0,      0],\n",
    "                   [ 0,       0,      0,  0,      0,      0,   c,-s/L_34, s/L_34,   -c, s/L_41,-s/L_41],\n",
    "                   [ 0,       0,      0,  0,      0,      0,   s, c/L_34,-c/L_34,   -s,-c/L_41, c/L_41],\n",
    "                   [ 0,       0,      0,  0,      0,      0,   0,      0,     -1,    0,      1,      0],\n",
    "                   [ 0,       0,      0,  0,      0,      0,   0,      0,      0,    c,-s/L_41, s/L_41],\n",
    "                   [ 0,       0,      0,  0,      0,      0,   0,      0,      0,    s, c/L_41,-c/L_41],\n",
    "                   [ 0,       0,      0,  0,      0,      0,   0,      0,      0,    0,      0,    -1]])\n",
    "\n",
    "\n"
   ]
  },
  {
   "cell_type": "code",
   "execution_count": 25,
   "id": "72bf829c",
   "metadata": {},
   "outputs": [
    {
     "data": {
      "text/latex": [
       "$\\displaystyle \\left[\\begin{array}{cccccccccccc}0 & 1 & 0 & 0 & 0 & 0 & 0 & 0 & 0 & 0 & 0 & 0\\\\\\cos{\\left(\\alpha \\right)} & - \\frac{\\sin{\\left(\\alpha \\right)}}{L_{12}} & \\frac{\\sin{\\left(\\alpha \\right)}}{L_{12}} & - \\cos{\\left(\\alpha \\right)} & \\frac{\\sin{\\left(\\alpha \\right)}}{L_{23}} & - \\frac{\\sin{\\left(\\alpha \\right)}}{L_{23}} & 0 & 0 & 0 & 0 & 0 & 0\\\\0 & 0 & -1 & 0 & 1 & 0 & 0 & 0 & 0 & 0 & 0 & 0\\\\0 & 0 & 0 & \\cos{\\left(\\alpha \\right)} & - \\frac{\\sin{\\left(\\alpha \\right)}}{L_{23}} & \\frac{\\sin{\\left(\\alpha \\right)}}{L_{23}} & - \\cos{\\left(\\alpha \\right)} & \\frac{\\sin{\\left(\\alpha \\right)}}{L_{34}} & - \\frac{\\sin{\\left(\\alpha \\right)}}{L_{34}} & 0 & 0 & 0\\\\0 & 0 & 0 & \\sin{\\left(\\alpha \\right)} & \\frac{\\cos{\\left(\\alpha \\right)}}{L_{23}} & - \\frac{\\cos{\\left(\\alpha \\right)}}{L_{23}} & - \\sin{\\left(\\alpha \\right)} & - \\frac{\\cos{\\left(\\alpha \\right)}}{L_{34}} & \\frac{\\cos{\\left(\\alpha \\right)}}{L_{34}} & 0 & 0 & 0\\\\0 & 0 & 0 & 0 & 0 & -1 & 0 & 1 & 0 & 0 & 0 & 0\\\\0 & 0 & 0 & 0 & 0 & 0 & \\cos{\\left(\\alpha \\right)} & - \\frac{\\sin{\\left(\\alpha \\right)}}{L_{34}} & \\frac{\\sin{\\left(\\alpha \\right)}}{L_{34}} & - \\cos{\\left(\\alpha \\right)} & \\frac{\\sin{\\left(\\alpha \\right)}}{L_{41}} & - \\frac{\\sin{\\left(\\alpha \\right)}}{L_{41}}\\\\0 & 0 & 0 & 0 & 0 & 0 & \\sin{\\left(\\alpha \\right)} & \\frac{\\cos{\\left(\\alpha \\right)}}{L_{34}} & - \\frac{\\cos{\\left(\\alpha \\right)}}{L_{34}} & - \\sin{\\left(\\alpha \\right)} & - \\frac{\\cos{\\left(\\alpha \\right)}}{L_{41}} & \\frac{\\cos{\\left(\\alpha \\right)}}{L_{41}}\\\\0 & 0 & 0 & 0 & 0 & 0 & 0 & 0 & -1 & 0 & 1 & 0\\\\0 & 0 & 0 & 0 & 0 & 0 & 0 & 0 & 0 & \\cos{\\left(\\alpha \\right)} & - \\frac{\\sin{\\left(\\alpha \\right)}}{L_{41}} & \\frac{\\sin{\\left(\\alpha \\right)}}{L_{41}}\\\\0 & 0 & 0 & 0 & 0 & 0 & 0 & 0 & 0 & \\sin{\\left(\\alpha \\right)} & \\frac{\\cos{\\left(\\alpha \\right)}}{L_{41}} & - \\frac{\\cos{\\left(\\alpha \\right)}}{L_{41}}\\\\0 & 0 & 0 & 0 & 0 & 0 & 0 & 0 & 0 & 0 & 0 & -1\\end{array}\\right]$"
      ],
      "text/plain": [
       "⎡  0        1        0        0        0         0         0        0         \n",
       "⎢                                                                             \n",
       "⎢        -sin(α)   sin(α)            sin(α)   -sin(α)                         \n",
       "⎢cos(α)  ────────  ──────  -cos(α)   ──────   ────────     0        0         \n",
       "⎢          L₁₂      L₁₂               L₂₃       L₂₃                           \n",
       "⎢                                                                             \n",
       "⎢  0        0        -1       0        1         0         0        0         \n",
       "⎢                                                                             \n",
       "⎢                                   -sin(α)    sin(α)             sin(α)   -si\n",
       "⎢  0        0        0     cos(α)   ────────   ──────   -cos(α)   ──────   ───\n",
       "⎢                                     L₂₃       L₂₃                L₃₄       L\n",
       "⎢                                                                             \n",
       "⎢                                    cos(α)   -cos(α)            -cos(α)    co\n",
       "⎢  0        0        0     sin(α)    ──────   ────────  -sin(α)  ────────   ──\n",
       "⎢                                     L₂₃       L₂₃                L₃₄       L\n",
       "⎢                                                                             \n",
       "⎢  0        0        0        0        0         -1        0        1         \n",
       "⎢                                                                             \n",
       "⎢                                                                -sin(α)    si\n",
       "⎢  0        0        0        0        0         0      cos(α)   ────────   ──\n",
       "⎢                                                                  L₃₄       L\n",
       "⎢                                                                             \n",
       "⎢                                                                 cos(α)   -co\n",
       "⎢  0        0        0        0        0         0      sin(α)    ──────   ───\n",
       "⎢                                                                  L₃₄       L\n",
       "⎢                                                                             \n",
       "⎢  0        0        0        0        0         0         0        0         \n",
       "⎢                                                                             \n",
       "⎢                                                                             \n",
       "⎢  0        0        0        0        0         0         0        0         \n",
       "⎢                                                                             \n",
       "⎢                                                                             \n",
       "⎢                                                                             \n",
       "⎢  0        0        0        0        0         0         0        0         \n",
       "⎢                                                                             \n",
       "⎢                                                                             \n",
       "⎣  0        0        0        0        0         0         0        0         \n",
       "\n",
       "0         0        0         0    ⎤\n",
       "                                  ⎥\n",
       "                                  ⎥\n",
       "0         0        0         0    ⎥\n",
       "                                  ⎥\n",
       "                                  ⎥\n",
       "0         0        0         0    ⎥\n",
       "                                  ⎥\n",
       "n(α)                              ⎥\n",
       "─────     0        0         0    ⎥\n",
       "₃₄                                ⎥\n",
       "                                  ⎥\n",
       "s(α)                              ⎥\n",
       "────      0        0         0    ⎥\n",
       "₃₄                                ⎥\n",
       "                                  ⎥\n",
       "0         0        0         0    ⎥\n",
       "                                  ⎥\n",
       "n(α)             sin(α)   -sin(α) ⎥\n",
       "────   -cos(α)   ──────   ────────⎥\n",
       "₃₄                L₄₁       L₄₁   ⎥\n",
       "                                  ⎥\n",
       "s(α)            -cos(α)    cos(α) ⎥\n",
       "─────  -sin(α)  ────────   ────── ⎥\n",
       "₃₄                L₄₁       L₄₁   ⎥\n",
       "                                  ⎥\n",
       "-1        0        1         0    ⎥\n",
       "                                  ⎥\n",
       "                -sin(α)    sin(α) ⎥\n",
       "0      cos(α)   ────────   ────── ⎥\n",
       "                  L₄₁       L₄₁   ⎥\n",
       "                                  ⎥\n",
       "                 cos(α)   -cos(α) ⎥\n",
       "0      sin(α)    ──────   ────────⎥\n",
       "                  L₄₁       L₄₁   ⎥\n",
       "                                  ⎥\n",
       "0         0        0         -1   ⎦"
      ]
     },
     "execution_count": 25,
     "metadata": {},
     "output_type": "execute_result"
    }
   ],
   "source": [
    "# Colocando as restrições de apoio\n",
    "\n",
    "L_eq = Lo_eq.copy()\n",
    "L_eq.row_del(0)\n",
    "L_eq.row_del(0)\n",
    "L_eq.row_del(2)\n",
    "L_eq"
   ]
  },
  {
   "cell_type": "code",
   "execution_count": 26,
   "id": "5a8b1725",
   "metadata": {},
   "outputs": [
    {
     "data": {
      "text/latex": [
       "$\\displaystyle \\left[\\begin{array}{cccccccccccc}0 & \\cos{\\left(\\alpha \\right)} & 0 & 0 & 0 & 0 & 0 & 0 & 0 & 0 & 0 & 0\\\\1 & - \\frac{\\sin{\\left(\\alpha \\right)}}{L_{12}} & 0 & 0 & 0 & 0 & 0 & 0 & 0 & 0 & 0 & 0\\\\0 & \\frac{\\sin{\\left(\\alpha \\right)}}{L_{12}} & -1 & 0 & 0 & 0 & 0 & 0 & 0 & 0 & 0 & 0\\\\0 & - \\cos{\\left(\\alpha \\right)} & 0 & \\cos{\\left(\\alpha \\right)} & \\sin{\\left(\\alpha \\right)} & 0 & 0 & 0 & 0 & 0 & 0 & 0\\\\0 & \\frac{\\sin{\\left(\\alpha \\right)}}{L_{23}} & 1 & - \\frac{\\sin{\\left(\\alpha \\right)}}{L_{23}} & \\frac{\\cos{\\left(\\alpha \\right)}}{L_{23}} & 0 & 0 & 0 & 0 & 0 & 0 & 0\\\\0 & - \\frac{\\sin{\\left(\\alpha \\right)}}{L_{23}} & 0 & \\frac{\\sin{\\left(\\alpha \\right)}}{L_{23}} & - \\frac{\\cos{\\left(\\alpha \\right)}}{L_{23}} & -1 & 0 & 0 & 0 & 0 & 0 & 0\\\\0 & 0 & 0 & - \\cos{\\left(\\alpha \\right)} & - \\sin{\\left(\\alpha \\right)} & 0 & \\cos{\\left(\\alpha \\right)} & \\sin{\\left(\\alpha \\right)} & 0 & 0 & 0 & 0\\\\0 & 0 & 0 & \\frac{\\sin{\\left(\\alpha \\right)}}{L_{34}} & - \\frac{\\cos{\\left(\\alpha \\right)}}{L_{34}} & 1 & - \\frac{\\sin{\\left(\\alpha \\right)}}{L_{34}} & \\frac{\\cos{\\left(\\alpha \\right)}}{L_{34}} & 0 & 0 & 0 & 0\\\\0 & 0 & 0 & - \\frac{\\sin{\\left(\\alpha \\right)}}{L_{34}} & \\frac{\\cos{\\left(\\alpha \\right)}}{L_{34}} & 0 & \\frac{\\sin{\\left(\\alpha \\right)}}{L_{34}} & - \\frac{\\cos{\\left(\\alpha \\right)}}{L_{34}} & -1 & 0 & 0 & 0\\\\0 & 0 & 0 & 0 & 0 & 0 & - \\cos{\\left(\\alpha \\right)} & - \\sin{\\left(\\alpha \\right)} & 0 & \\cos{\\left(\\alpha \\right)} & \\sin{\\left(\\alpha \\right)} & 0\\\\0 & 0 & 0 & 0 & 0 & 0 & \\frac{\\sin{\\left(\\alpha \\right)}}{L_{41}} & - \\frac{\\cos{\\left(\\alpha \\right)}}{L_{41}} & 1 & - \\frac{\\sin{\\left(\\alpha \\right)}}{L_{41}} & \\frac{\\cos{\\left(\\alpha \\right)}}{L_{41}} & 0\\\\0 & 0 & 0 & 0 & 0 & 0 & - \\frac{\\sin{\\left(\\alpha \\right)}}{L_{41}} & \\frac{\\cos{\\left(\\alpha \\right)}}{L_{41}} & 0 & \\frac{\\sin{\\left(\\alpha \\right)}}{L_{41}} & - \\frac{\\cos{\\left(\\alpha \\right)}}{L_{41}} & -1\\end{array}\\right]$"
      ],
      "text/plain": [
       "⎡0   cos(α)   0      0         0      0      0         0      0      0        \n",
       "⎢                                                                             \n",
       "⎢   -sin(α)                                                                   \n",
       "⎢1  ────────  0      0         0      0      0         0      0      0        \n",
       "⎢     L₁₂                                                                     \n",
       "⎢                                                                             \n",
       "⎢    sin(α)                                                                   \n",
       "⎢0   ──────   -1     0         0      0      0         0      0      0        \n",
       "⎢     L₁₂                                                                     \n",
       "⎢                                                                             \n",
       "⎢0  -cos(α)   0    cos(α)    sin(α)   0      0         0      0      0        \n",
       "⎢                                                                             \n",
       "⎢    sin(α)       -sin(α)    cos(α)                                           \n",
       "⎢0   ──────   1   ────────   ──────   0      0         0      0      0        \n",
       "⎢     L₂₃           L₂₃       L₂₃                                             \n",
       "⎢                                                                             \n",
       "⎢   -sin(α)        sin(α)   -cos(α)                                           \n",
       "⎢0  ────────  0    ──────   ────────  -1     0         0      0      0        \n",
       "⎢     L₂₃           L₂₃       L₂₃                                             \n",
       "⎢                                                                             \n",
       "⎢0     0      0   -cos(α)   -sin(α)   0    cos(α)    sin(α)   0      0        \n",
       "⎢                                                                             \n",
       "⎢                  sin(α)   -cos(α)       -sin(α)    cos(α)                   \n",
       "⎢0     0      0    ──────   ────────  1   ────────   ──────   0      0        \n",
       "⎢                   L₃₄       L₃₄           L₃₄       L₃₄                     \n",
       "⎢                                                                             \n",
       "⎢                 -sin(α)    cos(α)        sin(α)   -cos(α)                   \n",
       "⎢0     0      0   ────────   ──────   0    ──────   ────────  -1     0        \n",
       "⎢                   L₃₄       L₃₄           L₃₄       L₃₄                     \n",
       "⎢                                                                             \n",
       "⎢0     0      0      0         0      0   -cos(α)   -sin(α)   0    cos(α)    s\n",
       "⎢                                                                             \n",
       "⎢                                          sin(α)   -cos(α)       -sin(α)    c\n",
       "⎢0     0      0      0         0      0    ──────   ────────  1   ────────   ─\n",
       "⎢                                           L₄₁       L₄₁           L₄₁       \n",
       "⎢                                                                             \n",
       "⎢                                         -sin(α)    cos(α)        sin(α)   -c\n",
       "⎢0     0      0      0         0      0   ────────   ──────   0    ──────   ──\n",
       "⎣                                           L₄₁       L₄₁           L₄₁       \n",
       "\n",
       " 0      0 ⎤\n",
       "          ⎥\n",
       "          ⎥\n",
       " 0      0 ⎥\n",
       "          ⎥\n",
       "          ⎥\n",
       "          ⎥\n",
       " 0      0 ⎥\n",
       "          ⎥\n",
       "          ⎥\n",
       " 0      0 ⎥\n",
       "          ⎥\n",
       "          ⎥\n",
       " 0      0 ⎥\n",
       "          ⎥\n",
       "          ⎥\n",
       "          ⎥\n",
       " 0      0 ⎥\n",
       "          ⎥\n",
       "          ⎥\n",
       " 0      0 ⎥\n",
       "          ⎥\n",
       "          ⎥\n",
       " 0      0 ⎥\n",
       "          ⎥\n",
       "          ⎥\n",
       "          ⎥\n",
       " 0      0 ⎥\n",
       "          ⎥\n",
       "          ⎥\n",
       "in(α)   0 ⎥\n",
       "          ⎥\n",
       "os(α)     ⎥\n",
       "─────   0 ⎥\n",
       "L₄₁       ⎥\n",
       "          ⎥\n",
       "os(α)     ⎥\n",
       "──────  -1⎥\n",
       "L₄₁       ⎦"
      ]
     },
     "execution_count": 26,
     "metadata": {},
     "output_type": "execute_result"
    }
   ],
   "source": [
    "# Matriz de Equilirio Transposta\n",
    "\n",
    "L_eqt = Lo_eq.copy()\n",
    "L_eqt = L_eqt.T\n",
    "L_eqt.col_del(0)\n",
    "L_eqt.col_del(0)\n",
    "L_eqt.col_del(2)\n",
    "L_eqt"
   ]
  },
  {
   "cell_type": "markdown",
   "id": "571ed1b9",
   "metadata": {},
   "source": [
    "#### b) Matriz de Rigidez do Elemento - k"
   ]
  },
  {
   "cell_type": "code",
   "execution_count": 27,
   "id": "1b6844be",
   "metadata": {},
   "outputs": [
    {
     "data": {
      "text/latex": [
       "$\\displaystyle \\left[\\begin{array}{cccccccccccc}\\frac{12 E_{12} I_{12} P_{11}}{L_{12} \\left(- P_{11} P_{12} + 4\\right)} & - \\frac{6 E_{12} I_{12} P_{11} P_{12}}{L_{12} \\left(- P_{11} P_{12} + 4\\right)} & 0 & 0 & 0 & 0 & 0 & 0 & 0 & 0 & 0 & 0\\\\- \\frac{6 E_{12} I_{12} P_{11} P_{12}}{L_{12} \\left(- P_{11} P_{12} + 4\\right)} & \\frac{12 E_{12} I_{12} P_{11}}{L_{12} \\left(- P_{11} P_{12} + 4\\right)} & 0 & 0 & 0 & 0 & 0 & 0 & 0 & 0 & 0 & 0\\\\0 & 0 & \\frac{A_{12} E_{12}}{L_{12}} & 0 & 0 & 0 & 0 & 0 & 0 & 0 & 0 & 0\\\\0 & 0 & 0 & \\frac{12 E_{23} I_{23} P_{21}}{L_{23} \\left(- P_{21} P_{22} + 4\\right)} & - \\frac{6 E_{23} I_{23} P_{21} P_{22}}{L_{23} \\left(- P_{21} P_{22} + 4\\right)} & 0 & 0 & 0 & 0 & 0 & 0 & 0\\\\0 & 0 & 0 & - \\frac{6 E_{23} I_{23} P_{21} P_{22}}{L_{23} \\left(- P_{21} P_{22} + 4\\right)} & \\frac{12 E_{23} I_{23} P_{21}}{L_{23} \\left(- P_{21} P_{22} + 4\\right)} & 0 & 0 & 0 & 0 & 0 & 0 & 0\\\\0 & 0 & 0 & 0 & 0 & \\frac{A_{23} E_{23}}{L_{23}} & 0 & 0 & 0 & 0 & 0 & 0\\\\0 & 0 & 0 & 0 & 0 & 0 & \\frac{12 E_{34} I_{34} P_{31}}{L_{34} \\left(- P_{31} P_{32} + 4\\right)} & - \\frac{6 E_{34} I_{34} P_{31} P_{32}}{L_{34} \\left(- P_{31} P_{32} + 4\\right)} & 0 & 0 & 0 & 0\\\\0 & 0 & 0 & 0 & 0 & 0 & - \\frac{6 E_{34} I_{34} P_{31} P_{32}}{L_{34} \\left(- P_{31} P_{32} + 4\\right)} & \\frac{12 E_{34} I_{34} P_{31}}{L_{34} \\left(- P_{31} P_{32} + 4\\right)} & 0 & 0 & 0 & 0\\\\0 & 0 & 0 & 0 & 0 & 0 & 0 & 0 & \\frac{A_{34} E_{34}}{L_{34}} & 0 & 0 & 0\\\\0 & 0 & 0 & 0 & 0 & 0 & 0 & 0 & 0 & \\frac{12 E_{41} I_{41} P_{41}}{L_{41} \\left(- P_{41} P_{42} + 4\\right)} & - \\frac{6 E_{41} I_{41} P_{41} P_{42}}{L_{41} \\left(- P_{41} P_{42} + 4\\right)} & 0\\\\0 & 0 & 0 & 0 & 0 & 0 & 0 & 0 & 0 & - \\frac{6 E_{41} I_{41} P_{41} P_{42}}{L_{41} \\left(- P_{41} P_{42} + 4\\right)} & \\frac{12 E_{41} I_{41} P_{41}}{L_{41} \\left(- P_{41} P_{42} + 4\\right)} & 0\\\\0 & 0 & 0 & 0 & 0 & 0 & 0 & 0 & 0 & 0 & 0 & \\frac{A_{41} E_{41}}{L_{41}}\\end{array}\\right]$"
      ],
      "text/plain": [
       "⎡  12⋅E₁₂⋅I₁₂⋅P₁₁     -6⋅E₁₂⋅I₁₂⋅P₁₁⋅P₁₂                                      \n",
       "⎢──────────────────   ───────────────────     0              0                \n",
       "⎢L₁₂⋅(-P₁₁⋅P₁₂ + 4)    L₁₂⋅(-P₁₁⋅P₁₂ + 4)                                     \n",
       "⎢                                                                             \n",
       "⎢-6⋅E₁₂⋅I₁₂⋅P₁₁⋅P₁₂     12⋅E₁₂⋅I₁₂⋅P₁₁                                        \n",
       "⎢───────────────────  ──────────────────      0              0                \n",
       "⎢ L₁₂⋅(-P₁₁⋅P₁₂ + 4)  L₁₂⋅(-P₁₁⋅P₁₂ + 4)                                      \n",
       "⎢                                                                             \n",
       "⎢                                          A₁₂⋅E₁₂                            \n",
       "⎢         0                    0           ───────           0                \n",
       "⎢                                            L₁₂                              \n",
       "⎢                                                                             \n",
       "⎢                                                     12⋅E₂₃⋅I₂₃⋅P₂₁     -6⋅E₂\n",
       "⎢         0                    0              0     ──────────────────   ─────\n",
       "⎢                                                   L₂₃⋅(-P₂₁⋅P₂₂ + 4)    L₂₃⋅\n",
       "⎢                                                                             \n",
       "⎢                                                   -6⋅E₂₃⋅I₂₃⋅P₂₁⋅P₂₂     12⋅\n",
       "⎢         0                    0              0     ───────────────────  ─────\n",
       "⎢                                                    L₂₃⋅(-P₂₁⋅P₂₂ + 4)  L₂₃⋅(\n",
       "⎢                                                                             \n",
       "⎢                                                                             \n",
       "⎢         0                    0              0              0                \n",
       "⎢                                                                             \n",
       "⎢                                                                             \n",
       "⎢                                                                             \n",
       "⎢         0                    0              0              0                \n",
       "⎢                                                                             \n",
       "⎢                                                                             \n",
       "⎢                                                                             \n",
       "⎢         0                    0              0              0                \n",
       "⎢                                                                             \n",
       "⎢                                                                             \n",
       "⎢                                                                             \n",
       "⎢         0                    0              0              0                \n",
       "⎢                                                                             \n",
       "⎢                                                                             \n",
       "⎢                                                                             \n",
       "⎢         0                    0              0              0                \n",
       "⎢                                                                             \n",
       "⎢                                                                             \n",
       "⎢                                                                             \n",
       "⎢         0                    0              0              0                \n",
       "⎢                                                                             \n",
       "⎢                                                                             \n",
       "⎢                                                                             \n",
       "⎢         0                    0              0              0                \n",
       "⎣                                                                             \n",
       "\n",
       "                                                                              \n",
       "    0              0              0                    0              0       \n",
       "                                                                              \n",
       "                                                                              \n",
       "                                                                              \n",
       "    0              0              0                    0              0       \n",
       "                                                                              \n",
       "                                                                              \n",
       "                                                                              \n",
       "    0              0              0                    0              0       \n",
       "                                                                              \n",
       "                                                                              \n",
       "₃⋅I₂₃⋅P₂₁⋅P₂₂                                                                 \n",
       "──────────────     0              0                    0              0       \n",
       "(-P₂₁⋅P₂₂ + 4)                                                                \n",
       "                                                                              \n",
       "E₂₃⋅I₂₃⋅P₂₁                                                                   \n",
       "─────────────      0              0                    0              0       \n",
       "-P₂₁⋅P₂₂ + 4)                                                                 \n",
       "                                                                              \n",
       "                A₂₃⋅E₂₃                                                       \n",
       "    0           ───────           0                    0              0       \n",
       "                  L₂₃                                                         \n",
       "                                                                              \n",
       "                           12⋅E₃₄⋅I₃₄⋅P₃₁     -6⋅E₃₄⋅I₃₄⋅P₃₁⋅P₃₂              \n",
       "    0              0     ──────────────────   ───────────────────     0       \n",
       "                         L₃₄⋅(-P₃₁⋅P₃₂ + 4)    L₃₄⋅(-P₃₁⋅P₃₂ + 4)             \n",
       "                                                                              \n",
       "                         -6⋅E₃₄⋅I₃₄⋅P₃₁⋅P₃₂     12⋅E₃₄⋅I₃₄⋅P₃₁                \n",
       "    0              0     ───────────────────  ──────────────────      0       \n",
       "                          L₃₄⋅(-P₃₁⋅P₃₂ + 4)  L₃₄⋅(-P₃₁⋅P₃₂ + 4)              \n",
       "                                                                              \n",
       "                                                                   A₃₄⋅E₃₄    \n",
       "    0              0              0                    0           ───────    \n",
       "                                                                     L₃₄      \n",
       "                                                                              \n",
       "                                                                              \n",
       "    0              0              0                    0              0     ──\n",
       "                                                                            L₄\n",
       "                                                                              \n",
       "                                                                            -6\n",
       "    0              0              0                    0              0     ──\n",
       "                                                                             L\n",
       "                                                                              \n",
       "                                                                              \n",
       "    0              0              0                    0              0       \n",
       "                                                                              \n",
       "\n",
       "                                               ⎤\n",
       "       0                    0              0   ⎥\n",
       "                                               ⎥\n",
       "                                               ⎥\n",
       "                                               ⎥\n",
       "       0                    0              0   ⎥\n",
       "                                               ⎥\n",
       "                                               ⎥\n",
       "                                               ⎥\n",
       "       0                    0              0   ⎥\n",
       "                                               ⎥\n",
       "                                               ⎥\n",
       "                                               ⎥\n",
       "       0                    0              0   ⎥\n",
       "                                               ⎥\n",
       "                                               ⎥\n",
       "                                               ⎥\n",
       "       0                    0              0   ⎥\n",
       "                                               ⎥\n",
       "                                               ⎥\n",
       "                                               ⎥\n",
       "       0                    0              0   ⎥\n",
       "                                               ⎥\n",
       "                                               ⎥\n",
       "                                               ⎥\n",
       "       0                    0              0   ⎥\n",
       "                                               ⎥\n",
       "                                               ⎥\n",
       "                                               ⎥\n",
       "       0                    0              0   ⎥\n",
       "                                               ⎥\n",
       "                                               ⎥\n",
       "                                               ⎥\n",
       "       0                    0              0   ⎥\n",
       "                                               ⎥\n",
       "                                               ⎥\n",
       "12⋅E₄₁⋅I₄₁⋅P₄₁     -6⋅E₄₁⋅I₄₁⋅P₄₁⋅P₄₂          ⎥\n",
       "────────────────   ───────────────────     0   ⎥\n",
       "₁⋅(-P₄₁⋅P₄₂ + 4)    L₄₁⋅(-P₄₁⋅P₄₂ + 4)         ⎥\n",
       "                                               ⎥\n",
       "⋅E₄₁⋅I₄₁⋅P₄₁⋅P₄₂     12⋅E₄₁⋅I₄₁⋅P₄₁            ⎥\n",
       "─────────────────  ──────────────────      0   ⎥\n",
       "₄₁⋅(-P₄₁⋅P₄₂ + 4)  L₄₁⋅(-P₄₁⋅P₄₂ + 4)          ⎥\n",
       "                                               ⎥\n",
       "                                        A₄₁⋅E₄₁⎥\n",
       "       0                    0           ───────⎥\n",
       "                                          L₄₁  ⎦"
      ]
     },
     "execution_count": 27,
     "metadata": {},
     "output_type": "execute_result"
    }
   ],
   "source": [
    "# Matriz de Rigidez do Elemento - k\n",
    "\n",
    "k_el = sp.Matrix([[      (3*P_11/(4-P_11*P_12))*(4*E_12*I_12/L_12),(3*P_11*P_12/(4-P_11*P_12))*(-2*E_12*I_12/L_12),        0, 0, 0, 0, 0, 0, 0, 0, 0, 0],\n",
    "                  [(3*P_11*P_12/(4-P_11*P_12))*(-2*E_12*I_12/L_12),      (3*P_11/(4-P_11*P_12))*(4*E_12*I_12/L_12),        0, 0, 0, 0, 0, 0, 0, 0, 0, 0],\n",
    "                  [                                        0,                                        0, E_12*A_12/L_12, 0, 0, 0, 0, 0, 0, 0, 0, 0],\n",
    "                  [                                        0,                                        0,            0,      (3*P_21/(4-P_21*P_22))*(4*E_23*I_23/L_23),(3*P_21*P_22/(4-P_21*P_22))*(-2*E_23*I_23/L_23),        0,  0, 0, 0, 0, 0, 0],\n",
    "                  [                                        0,                                        0,            0,(3*P_21*P_22/(4-P_21*P_22))*(-2*E_23*I_23/L_23),      (3*P_21/(4-P_21*P_22))*(4*E_23*I_23/L_23),        0,  0, 0, 0, 0, 0, 0],\n",
    "                  [                                        0,                                        0,            0,                                        0,                                        0, E_23*A_23/L_23,  0, 0, 0, 0, 0, 0],\n",
    "                  [                                        0,                                        0,            0,                                        0,                                        0,            0,      (3*P_31/(4-P_31*P_32))*(4*E_34*I_34/L_34),(3*P_31*P_32/(4-P_31*P_32))*(-2*E_34*I_34/L_34),        0,  0,  0,  0],\n",
    "                  [                                        0,                                        0,            0,                                        0,                                        0,            0,(3*P_31*P_32/(4-P_31*P_32))*(-2*E_34*I_34/L_34),      (3*P_31/(4-P_31*P_32))*(4*E_34*I_34/L_34),        0,  0,  0,  0],\n",
    "                  [                                        0,                                        0,            0,                                        0,                                        0,            0,                                        0,                                        0, E_34*A_34/L_34,  0,  0,  0],\n",
    "                  [                                        0,                                        0,            0,                                        0,                                        0,            0,                                        0,                                        0,        0,      (3*P_41/(4-P_41*P_42))*(4*E_41*I_41/L_41),(3*P_41*P_42/(4-P_41*P_42))*(-2*E_41*I_41/L_41),        0],\n",
    "                  [                                        0,                                        0,            0,                                        0,                                        0,            0,                                        0,                                        0,        0,(3*P_41*P_42/(4-P_41*P_42))*(-2*E_41*I_41/L_41),      (3*P_41/(4-P_41*P_42))*(4*E_41*I_41/L_41),        0],\n",
    "                  [                                        0,                                        0,            0,                                        0,                                        0,            0,                                        0,                                        0,        0,                                        0,                                        0, E_41*A_41/L_41]])\n",
    "\n",
    "k_el"
   ]
  },
  {
   "cell_type": "markdown",
   "id": "1ff49bf8",
   "metadata": {},
   "source": [
    "#### c) Vetor das Cargas Nodais (Cargas pontuais e Cargas Momentos) - Lambda"
   ]
  },
  {
   "cell_type": "code",
   "execution_count": 28,
   "id": "385b4d7f",
   "metadata": {},
   "outputs": [],
   "source": [
    "# Criando o vetor das cargas nodais\n",
    "\n",
    "# F8 = 10kN\n",
    "# F11 = 10kN\n",
    "\n",
    "F1, F2, F3, F4, F5, F6, F7, F8, F9, F10, F11, F12 = sp.symbols(['F1', 'F2', 'F3', 'F4', 'F5', 'F6', 'F7', 'F8', 'F9', 'F10', 'F11', 'F12'])\n",
    "\n",
    "F = sp.Matrix([F1, F2, F3, F4, F5, F6, F7, F8, F9, F10, F11, F12])"
   ]
  },
  {
   "cell_type": "code",
   "execution_count": 29,
   "id": "1972afa2",
   "metadata": {},
   "outputs": [
    {
     "data": {
      "text/latex": [
       "$\\displaystyle \\left[\\begin{matrix}F_{3}\\\\F_{4}\\\\F_{6}\\\\F_{7}\\\\F_{8}\\\\F_{9}\\\\F_{10}\\\\F_{11}\\\\F_{12}\\end{matrix}\\right]$"
      ],
      "text/plain": [
       "⎡F₃ ⎤\n",
       "⎢   ⎥\n",
       "⎢F₄ ⎥\n",
       "⎢   ⎥\n",
       "⎢F₆ ⎥\n",
       "⎢   ⎥\n",
       "⎢F₇ ⎥\n",
       "⎢   ⎥\n",
       "⎢F₈ ⎥\n",
       "⎢   ⎥\n",
       "⎢F₉ ⎥\n",
       "⎢   ⎥\n",
       "⎢F₁₀⎥\n",
       "⎢   ⎥\n",
       "⎢F₁₁⎥\n",
       "⎢   ⎥\n",
       "⎣F₁₂⎦"
      ]
     },
     "execution_count": 29,
     "metadata": {},
     "output_type": "execute_result"
    }
   ],
   "source": [
    "# Aplicando a restrição dos apoios\n",
    "Fn = F.copy()\n",
    "Fn.row_del(0)\n",
    "Fn.row_del(0)\n",
    "Fn.row_del(2)\n",
    "Fn\n"
   ]
  },
  {
   "cell_type": "markdown",
   "id": "27d3782d",
   "metadata": {},
   "source": [
    "#### d) Vetor dos Deslocamentos Nodais (Deslocamentos Lineares e Rotacionais) - Delta"
   ]
  },
  {
   "cell_type": "code",
   "execution_count": 30,
   "id": "ee4a8e27",
   "metadata": {},
   "outputs": [],
   "source": [
    "# Criando o vetor dos deslocamentos nodais\n",
    "delta = sp.symbols('delta')\n",
    "delta1, delta2, delta3, delta4, delta5, delta6, delta7, delta8, delta9, delta10, delta11, delta12 = sp.symbols(['delta1', 'delta2', 'delta3', 'delta4', 'delta5', 'delta6', 'delta7', 'delta8', 'delta9', 'delta10', 'delta11', 'delta12'])\n",
    "\n",
    "dt = sp.Matrix([delta1, delta2, delta3, delta4, delta5, delta6, delta7, delta8, delta9, delta10, delta11, delta12])\n"
   ]
  },
  {
   "cell_type": "code",
   "execution_count": 31,
   "id": "5a7d9b8e",
   "metadata": {},
   "outputs": [
    {
     "data": {
      "text/latex": [
       "$\\displaystyle \\left[\\begin{matrix}\\delta_{3}\\\\\\delta_{4}\\\\\\delta_{6}\\\\\\delta_{7}\\\\\\delta_{8}\\\\\\delta_{9}\\\\\\delta_{10}\\\\\\delta_{11}\\\\\\delta_{12}\\end{matrix}\\right]$"
      ],
      "text/plain": [
       "⎡δ₃ ⎤\n",
       "⎢   ⎥\n",
       "⎢δ₄ ⎥\n",
       "⎢   ⎥\n",
       "⎢δ₆ ⎥\n",
       "⎢   ⎥\n",
       "⎢δ₇ ⎥\n",
       "⎢   ⎥\n",
       "⎢δ₈ ⎥\n",
       "⎢   ⎥\n",
       "⎢δ₉ ⎥\n",
       "⎢   ⎥\n",
       "⎢δ₁₀⎥\n",
       "⎢   ⎥\n",
       "⎢δ₁₁⎥\n",
       "⎢   ⎥\n",
       "⎣δ₁₂⎦"
      ]
     },
     "execution_count": 31,
     "metadata": {},
     "output_type": "execute_result"
    }
   ],
   "source": [
    "# Aplicando a restrição dos apoios\n",
    "dlt = dt.copy()\n",
    "dlt.row_del(0)\n",
    "dlt.row_del(0)\n",
    "dlt.row_del(2)\n",
    "dlt"
   ]
  },
  {
   "cell_type": "markdown",
   "id": "4f67c85d",
   "metadata": {},
   "source": [
    "#### e) Vetor das Deformações Correspondentes (Deformações Lineares e Angulares) - Theta"
   ]
  },
  {
   "cell_type": "code",
   "execution_count": 32,
   "id": "6373995c",
   "metadata": {},
   "outputs": [
    {
     "data": {
      "text/latex": [
       "$\\displaystyle \\left[\\begin{matrix}\\theta_{1}\\\\\\theta_{2}\\\\\\theta_{3}\\\\\\theta_{4}\\\\\\theta_{5}\\\\\\theta_{6}\\\\\\theta_{7}\\\\\\theta_{8}\\\\\\theta_{9}\\\\\\theta_{10}\\\\\\theta_{11}\\\\\\theta_{12}\\end{matrix}\\right]$"
      ],
      "text/plain": [
       "⎡θ₁ ⎤\n",
       "⎢   ⎥\n",
       "⎢θ₂ ⎥\n",
       "⎢   ⎥\n",
       "⎢θ₃ ⎥\n",
       "⎢   ⎥\n",
       "⎢θ₄ ⎥\n",
       "⎢   ⎥\n",
       "⎢θ₅ ⎥\n",
       "⎢   ⎥\n",
       "⎢θ₆ ⎥\n",
       "⎢   ⎥\n",
       "⎢θ₇ ⎥\n",
       "⎢   ⎥\n",
       "⎢θ₈ ⎥\n",
       "⎢   ⎥\n",
       "⎢θ₉ ⎥\n",
       "⎢   ⎥\n",
       "⎢θ₁₀⎥\n",
       "⎢   ⎥\n",
       "⎢θ₁₁⎥\n",
       "⎢   ⎥\n",
       "⎣θ₁₂⎦"
      ]
     },
     "execution_count": 32,
     "metadata": {},
     "output_type": "execute_result"
    }
   ],
   "source": [
    "# Criando o Vetor das Deformações Correspondentes\n",
    "theta = sp.symbols('theta')\n",
    "theta1, theta2, theta3, theta4, theta5, theta6, theta7, theta8, theta9, theta10, theta11, theta12 = sp.symbols(['theta1', 'theta2', 'theta3', 'theta4', 'theta5', 'theta6', 'theta7', 'theta8', 'theta9', 'theta10', 'theta11', 'theta12'])\n",
    "teta = sp.Matrix([theta1, theta2, theta3, theta4, theta5, theta6, theta7, theta8, theta9, theta10, theta11, theta12])\n",
    "teta"
   ]
  },
  {
   "cell_type": "markdown",
   "id": "82f086ae",
   "metadata": {},
   "source": [
    "#### f) Vetor dos Esforços Seccionais Internos (Momentos Fletores e Esforços Normais) - m"
   ]
  },
  {
   "cell_type": "code",
   "execution_count": 33,
   "id": "1fb2ef36",
   "metadata": {},
   "outputs": [
    {
     "data": {
      "text/latex": [
       "$\\displaystyle \\left[\\begin{matrix}m_{1}\\\\m_{2}\\\\n_{1}\\\\m_{3}\\\\m_{4}\\\\n_{2}\\\\m_{5}\\\\m_{6}\\\\n_{3}\\\\m_{7}\\\\m_{8}\\\\n_{4}\\end{matrix}\\right]$"
      ],
      "text/plain": [
       "⎡m₁⎤\n",
       "⎢  ⎥\n",
       "⎢m₂⎥\n",
       "⎢  ⎥\n",
       "⎢n₁⎥\n",
       "⎢  ⎥\n",
       "⎢m₃⎥\n",
       "⎢  ⎥\n",
       "⎢m₄⎥\n",
       "⎢  ⎥\n",
       "⎢n₂⎥\n",
       "⎢  ⎥\n",
       "⎢m₅⎥\n",
       "⎢  ⎥\n",
       "⎢m₆⎥\n",
       "⎢  ⎥\n",
       "⎢n₃⎥\n",
       "⎢  ⎥\n",
       "⎢m₇⎥\n",
       "⎢  ⎥\n",
       "⎢m₈⎥\n",
       "⎢  ⎥\n",
       "⎣n₄⎦"
      ]
     },
     "execution_count": 33,
     "metadata": {},
     "output_type": "execute_result"
    }
   ],
   "source": [
    "# Vetor dos Esforços Seccionais Internos\n",
    "m1, m2, n1, m3, m4, n2, m5, m6, n3, m7, m8, n4 = sp.symbols(['m1', 'm2', 'n1', 'm3', 'm4', 'n2', 'm5', 'm6', 'n3', 'm7', 'm8', 'n4'])\n",
    "m = sp.Matrix([m1, m2, n1, m3, m4, n2, m5, m6, n3, m7, m8, n4])\n",
    "m\n"
   ]
  },
  {
   "cell_type": "code",
   "execution_count": 34,
   "id": "21b323fc",
   "metadata": {},
   "outputs": [],
   "source": [
    "K_global = L_eq * k_el * L_eqt"
   ]
  },
  {
   "cell_type": "code",
   "execution_count": null,
   "id": "cee805c7",
   "metadata": {},
   "outputs": [],
   "source": []
  },
  {
   "cell_type": "code",
   "execution_count": null,
   "id": "13d119ec",
   "metadata": {},
   "outputs": [],
   "source": []
  }
 ],
 "metadata": {
  "kernelspec": {
   "display_name": "Python 3 (ipykernel)",
   "language": "python",
   "name": "python3"
  },
  "language_info": {
   "codemirror_mode": {
    "name": "ipython",
    "version": 3
   },
   "file_extension": ".py",
   "mimetype": "text/x-python",
   "name": "python",
   "nbconvert_exporter": "python",
   "pygments_lexer": "ipython3",
   "version": "3.9.10"
  }
 },
 "nbformat": 4,
 "nbformat_minor": 5
}
