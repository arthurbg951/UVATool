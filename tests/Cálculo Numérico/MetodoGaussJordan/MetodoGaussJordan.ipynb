{
 "cells": [
  {
   "cell_type": "code",
   "execution_count": 7,
   "metadata": {},
   "outputs": [
    {
     "name": "stdout",
     "output_type": "stream",
     "text": [
      "matriz com 3 linhas e 4 colunas\n",
      "\n",
      " [[ 0.  1.  1. 50.]\n",
      " [ 1.  1.  0. 45.]\n",
      " [ 1.  0.  1. 55.]] \n",
      "\n"
     ]
    }
   ],
   "source": [
    "import numpy as np\n",
    "matriz = np.array([[0, 1, 1, 50],\n",
    "                  [1, 1, 0, 45],\n",
    "                  [1, 0, 1, 55]])\n",
    "#Transforma elementos da matriz em float\n",
    "matriz = np.array(matriz, dtype=np.float64)\n",
    "#Determina o numero de linhas e colunas\n",
    "nLinhas = len(matriz)                 \n",
    "nColunas = len(matriz[0])             \n",
    "print(\"matriz com {0} linhas e {1} colunas\".format(nLinhas, nColunas))\n",
    "print(\"\\n\", matriz, \"\\n\")"
   ]
  },
  {
   "cell_type": "code",
   "execution_count": 8,
   "metadata": {},
   "outputs": [
    {
     "name": "stdout",
     "output_type": "stream",
     "text": [
      "Matriz modificada: \n",
      " [[ 1.  1.  0. 45.]\n",
      " [ 0.  1.  1. 50.]\n",
      " [ 1.  0.  1. 55.]] \n",
      "\n"
     ]
    }
   ],
   "source": [
    "#[linhas, colunas]\n",
    "#Altera linhas com pivor igual a zero\n",
    "c = 0\n",
    "for k in range(0, nLinhas-1):\n",
    "  while matriz[k,k]==0:\n",
    "    if matriz[k,k] == matriz[nLinhas-1,nLinhas-1]:\n",
    "      aux = matriz[k,:].copy()\n",
    "      matriz[k,:] = matriz[k-1,:].copy()\n",
    "      matriz[k-1,:] = aux.copy() \n",
    "    if matriz[k+c,k] !=0:\n",
    "      aux = matriz[k,:].copy()\n",
    "      matriz[k,:] = matriz[k+c,:].copy()\n",
    "      matriz[k+c,:] = aux.copy()\n",
    "    else:\n",
    "      c = c + 1\n",
    "print(\"Matriz modificada:\",\"\\n\", matriz, \"\\n\")   "
   ]
  },
  {
   "cell_type": "code",
   "execution_count": 9,
   "metadata": {},
   "outputs": [
    {
     "name": "stdout",
     "output_type": "stream",
     "text": [
      "Escalonamento por eliminação\n",
      " [[ 1.  1.  0. 45.]\n",
      " [ 0.  1.  1. 50.]\n",
      " [ 0.  0.  2. 60.]]\n"
     ]
    }
   ],
   "source": [
    "#Realiza o escalonamento por eliminação\n",
    "for i in range(0, nLinhas): \n",
    "  for j in range(i+1, nLinhas):\n",
    "    mult = matriz[j,i]/matriz[i,i]\n",
    "    matriz[j,:] = matriz[j,:] - mult*matriz[i,:]\n",
    "print(\"Escalonamento por eliminação\\n\", matriz)"
   ]
  },
  {
   "cell_type": "code",
   "execution_count": 10,
   "metadata": {},
   "outputs": [
    {
     "name": "stdout",
     "output_type": "stream",
     "text": [
      "Metodo de Gauss Jordan\n",
      " [[ 1.  0.  0. 25.]\n",
      " [ 0.  1.  0. 20.]\n",
      " [ 0.  0.  1. 30.]]\n"
     ]
    }
   ],
   "source": [
    "#Realiza o metodo de Gauss Jordan\n",
    "for i in range(nLinhas-1, -1,-1): \n",
    "  for j in range(nLinhas-1, -1,-1):\n",
    "    if j<i:\n",
    "      mult = matriz[j,i]/matriz[i,i]\n",
    "      matriz[j,:] = matriz[j,:] - mult*matriz[i,:]\n",
    "#Transforma a diagonal dos pivores em 1\n",
    "for i in range(0, nLinhas): \n",
    "  for j in range(i, nLinhas):\n",
    "    matriz[j,:] = matriz[j,:]/matriz[i,i]\n",
    "print(\"Metodo de Gauss Jordan\\n\", matriz)"
   ]
  },
  {
   "cell_type": "code",
   "execution_count": null,
   "metadata": {},
   "outputs": [],
   "source": []
  }
 ],
 "metadata": {
  "kernelspec": {
   "display_name": "Python 3",
   "language": "python",
   "name": "python3"
  },
  "language_info": {
   "codemirror_mode": {
    "name": "ipython",
    "version": 3
   },
   "file_extension": ".py",
   "mimetype": "text/x-python",
   "name": "python",
   "nbconvert_exporter": "python",
   "pygments_lexer": "ipython3",
   "version": "3.10.3"
  }
 },
 "nbformat": 4,
 "nbformat_minor": 4
}
